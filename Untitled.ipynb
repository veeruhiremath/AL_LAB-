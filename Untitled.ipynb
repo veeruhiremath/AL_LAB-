{
 "cells": [
  {
   "cell_type": "markdown",
   "id": "2da2cef9-8cf4-4786-85de-2c7a0a6c2c78",
   "metadata": {},
   "source": [
    "## Name:Manish bhajantri\n",
    "## USN NO:2VX23UE026\n",
    "## EXPERIMENT NO:4b Travelling salesperson problem"
   ]
  },
  {
   "cell_type": "code",
   "execution_count": 2,
   "id": "8cd067b0-218b-4644-af40-fa5468a65a74",
   "metadata": {},
   "outputs": [
    {
     "name": "stdout",
     "output_type": "stream",
     "text": [
      "Minimum Tour cost of TSP: 35\n"
     ]
    }
   ],
   "source": [
    "from itertools import permutations \n",
    "\n",
    "n=4\n",
    "graph=[[0,10,15,20],\n",
    "       [5,0,9,10],\n",
    "       [6,13,0,12],\n",
    "       [8,8,9,0]]\n",
    "\n",
    "start_city = 0\n",
    "\n",
    "def TSP(graph,start_city):\n",
    "    dist = []\n",
    "\n",
    "    for cur_city in range(n):\n",
    "        if cur_city != start_city:\n",
    "            dist.append(cur_city)\n",
    "\n",
    "    min_cost = float('inf')\n",
    "\n",
    "    next_Perm = permutations(dist)\n",
    "\n",
    "    for i in next_Perm:\n",
    "        cur_cost = 0\n",
    "        k = start_city\n",
    "\n",
    "        for j in i:\n",
    "            cur_cost =cur_cost +graph[k][j]\n",
    "            k=j\n",
    "\n",
    "        cur_cost = cur_cost + graph[k][start_city]\n",
    "\n",
    "        min_cost = min(min_cost, cur_cost)\n",
    "\n",
    "    return min_cost\n",
    "\n",
    "min_TourCost = TSP(graph, start_city)\n",
    "\n",
    "print(\"Minimum Tour cost of TSP:\", min_TourCost)\n",
    "\n",
    "\n",
    "\n"
   ]
  },
  {
   "cell_type": "code",
   "execution_count": 4,
   "id": "004e1651-a458-415a-a5ce-c041ee0c63bd",
   "metadata": {},
   "outputs": [
    {
     "name": "stdin",
     "output_type": "stream",
     "text": [
      "enter number of cities: 4\n"
     ]
    },
    {
     "name": "stdout",
     "output_type": "stream",
     "text": [
      "enter the cost matrix(enter a each row separated by spaces):\n"
     ]
    },
    {
     "name": "stdin",
     "output_type": "stream",
     "text": [
      " 0 10 15 20\n",
      " 5 0 9 10\n",
      " 6 13 0 12\n",
      " 8 8 9 0\n"
     ]
    },
    {
     "name": "stdout",
     "output_type": "stream",
     "text": [
      "Minimum Tour cost of TSP: 35\n"
     ]
    }
   ],
   "source": [
    "from itertools import permutations \n",
    "\n",
    "n=int(input(\"enter number of cities:\"))\n",
    "\n",
    "print(\"enter the cost matrix(enter a each row separated by spaces):\")\n",
    "graph = []\n",
    "for i in range(n):\n",
    "    row = input().split()\n",
    "    graph.append([int(x) for x in  row])\n",
    "\n",
    "start_city = 0\n",
    "\n",
    "def TSP(graph,start_city):\n",
    "    dist = []\n",
    "\n",
    "    for cur_city in range(n):\n",
    "        if cur_city !=start_city:\n",
    "            dist.append(cur_city)\n",
    "\n",
    "    min_cost = float('inf')\n",
    "\n",
    "    next_Perm = permutations(dist)\n",
    "\n",
    "    for i in next_Perm:\n",
    "        cur_cost = 0\n",
    "        k = start_city\n",
    "\n",
    "        for j in i:\n",
    "            cur_cost =cur_cost +graph[k][j]\n",
    "            k=j\n",
    "\n",
    "        cur_cost = cur_cost + graph[k][start_city]\n",
    "\n",
    "        min_cost = min(min_cost, cur_cost)\n",
    "\n",
    "    return min_cost\n",
    "\n",
    "min_TourCost = TSP(graph, start_city)\n",
    "\n",
    "print(\"Minimum Tour cost of TSP:\", min_TourCost)\n",
    "\n",
    "\n",
    "\n"
   ]
  },
  {
   "cell_type": "code",
   "execution_count": null,
   "id": "7fc7128e-7d1b-4b96-a4c1-340e37c106dc",
   "metadata": {},
   "outputs": [],
   "source": []
  }
 ],
 "metadata": {
  "kernelspec": {
   "display_name": "Python [conda env:base] *",
   "language": "python",
   "name": "conda-base-py"
  },
  "language_info": {
   "codemirror_mode": {
    "name": "ipython",
    "version": 3
   },
   "file_extension": ".py",
   "mimetype": "text/x-python",
   "name": "python",
   "nbconvert_exporter": "python",
   "pygments_lexer": "ipython3",
   "version": "3.12.7"
  }
 },
 "nbformat": 4,
 "nbformat_minor": 5
}
